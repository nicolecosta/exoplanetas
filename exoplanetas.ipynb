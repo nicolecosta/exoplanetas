{
  "cells": [
    {
      "cell_type": "markdown",
      "metadata": {
        "id": "D_XmhesoQAun"
      },
      "source": [
        "## <strong>PROJETO FINAL VISÃO COMPUTACIONAL</strong>\n",
        "**EXOPLANETAS**\n",
        "\n",
        "Nicole Sarvasi Alves da Costa\n",
        "\n",
        "Marcelo Miguel"
      ]
    },
    {
      "cell_type": "markdown",
      "source": [
        "Nosso projeto foi baseado no uso do Lightkurve, um pacote com o objetivo de apoiar a ciência em conjunto com os dados provindos dos telescópios espaciais TESS e o Kepler da NASA. Em suma, o objetivo deles é criar um ambiente fácil, acessível e *open source* para a análise de dados de séries temporais sobre o brilho de planetas, estrelas e galáxias.\n",
        "\n",
        "Nesta aplicação em específico, implementamos um algoritmo de processamento com a função de filtro passa-baixa, depois fazemos a detecção do contorno para o cálculo da área da estrela e por fim plotamos um gráfico 3D da imagem pela sua intensidade.\n",
        "\n",
        "\n"
      ],
      "metadata": {
        "id": "_mih75UQmYZG"
      }
    },
    {
      "cell_type": "markdown",
      "metadata": {
        "id": "d7j8Lfn87lXd"
      },
      "source": [
        "#### **PASSO 1:** instalar o lightkurve e importar o search_targetpixelfile"
      ]
    },
    {
      "cell_type": "code",
      "execution_count": null,
      "metadata": {
        "id": "lLCo4zyEQeyd"
      },
      "outputs": [],
      "source": [
        "#! python -m pip install lightkurve --upgrade"
      ]
    },
    {
      "cell_type": "code",
      "execution_count": null,
      "metadata": {
        "id": "4kqjHt5m8CSL"
      },
      "outputs": [],
      "source": [
        "from lightkurve import search_targetpixelfile\n",
        "import numpy as np\n",
        "import matplotlib.pyplot as plt\n",
        "%matplotlib inline\n",
        "import seaborn as sns\n",
        "import cv2\n",
        "from astropy.convolution import convolve\n",
        "from astropy.convolution.kernels import Gaussian1DKernel\n",
        "from astropy import units as u\n",
        "import imageio\n",
        "import os"
      ]
    },
    {
      "cell_type": "markdown",
      "metadata": {
        "id": "fRwx-6oq8EYH"
      },
      "source": [
        "#### **PASSO 2:** baixar a imagem e plotar seu heatmap"
      ]
    },
    {
      "cell_type": "code",
      "execution_count": null,
      "metadata": {
        "id": "IHPi7P6-Psex"
      },
      "outputs": [],
      "source": [
        "pixelfile = search_targetpixelfile(\"KIC 6922244\", quarter=16).download();\n",
        "pixelfile1 = search_targetpixelfile(\"KIC 8462852\", quarter=16).download();"
      ]
    },
    {
      "cell_type": "code",
      "execution_count": null,
      "metadata": {
        "id": "OA4n_e4whryh"
      },
      "outputs": [],
      "source": [
        "# plt.rcParams[\"figure.figsize\"] = [7.00, 3.50]\n",
        "# plt.rcParams[\"figure.autolayout\"] = True\n",
        "# fig = plt.figure()\n",
        "# ax = fig.add_subplot(111, projection='3d')\n",
        "\n",
        "# z,x,y=pixelfile1.flux.nonzero()\n",
        "# ax.scatter(x, y, z, c=z, alpha=1)\n"
      ]
    },
    {
      "cell_type": "code",
      "execution_count": null,
      "metadata": {
        "id": "ICxo-xCahryi",
        "outputId": "4168b17f-b173-4ac9-fb4c-f4e7aac6e545"
      },
      "outputs": [
        {
          "data": {
            "text/plain": [
              "3540"
            ]
          },
          "execution_count": 137,
          "metadata": {},
          "output_type": "execute_result"
        }
      ],
      "source": [
        "len(pixelfile1.flux)"
      ]
    },
    {
      "cell_type": "code",
      "execution_count": null,
      "metadata": {
        "id": "ULk426wmhryj"
      },
      "outputs": [],
      "source": [
        "kic_matrix = pixelfile1.flux[0]"
      ]
    },
    {
      "cell_type": "code",
      "execution_count": null,
      "metadata": {
        "id": "0w9HNNoehryj"
      },
      "outputs": [],
      "source": [
        "def plot_heatmap(matrix):    \n",
        "    #plt.imshow((matrix), interpolation='nearest')\n",
        "    sns.heatmap(matrix)\n",
        "    plt.gca().invert_yaxis()\n",
        "    #plt.show()\n"
      ]
    },
    {
      "cell_type": "code",
      "execution_count": null,
      "metadata": {
        "id": "mCMeuVRMhryk",
        "outputId": "4ebfb88f-3e5d-48ff-fec1-4353d3c117b3"
      },
      "outputs": [
        {
          "data": {
            "image/png": "[encoded data removed]",
            "text/plain": [
              "<Figure size 432x288 with 2 Axes>"
            ]
          },
          "metadata": {
            "needs_background": "light"
          },
          "output_type": "display_data"
        }
      ],
      "source": [
        "\n",
        "plot_heatmap(kic_matrix)"
      ]
    },
    {
      "cell_type": "markdown",
      "source": [
        "#### **PASSO 3:** Aplicar um filtro passa-baixa no heatmap"
      ],
      "metadata": {
        "id": "6drrxJ8okppl"
      }
    },
    {
      "cell_type": "code",
      "execution_count": null,
      "metadata": {
        "scrolled": true,
        "id": "QpAaJbEDhryk",
        "outputId": "74a7c204-b914-4b63-b966-b0a8c4a5a956"
      },
      "outputs": [
        {
          "data": {
            "image/png": "[encoded data removed]",
            "text/plain": [
              "<Figure size 432x288 with 2 Axes>"
            ]
          },
          "metadata": {
            "needs_background": "light"
          },
          "output_type": "display_data"
        }
      ],
      "source": [
        "from astropy.convolution.kernels import Gaussian2DKernel\n",
        "blur = convolve(kic_matrix, Gaussian2DKernel(2))\n",
        "plot_heatmap(blur)\n"
      ]
    },
    {
      "cell_type": "markdown",
      "source": [
        "#### **PASSO 4:** Transferir o eixo de intensidade para uma escala de 1 a 256"
      ],
      "metadata": {
        "id": "a5TNgs51lEGj"
      }
    },
    {
      "cell_type": "code",
      "execution_count": null,
      "metadata": {
        "id": "Z35Z1Qb3hryl",
        "outputId": "007322fc-1d3d-4429-b6e0-f2a164e4d934"
      },
      "outputs": [
        {
          "name": "stdout",
          "output_type": "stream",
          "text": [
            "7659.16845703125 electron / s\n"
          ]
        },
        {
          "data": {
            "image/png": "[encoded data removed]",
            "text/plain": [
              "<Figure size 432x288 with 2 Axes>"
            ]
          },
          "metadata": {
            "needs_background": "light"
          },
          "output_type": "display_data"
        }
      ],
      "source": [
        "max_value =max(map(max, blur))\n",
        "print(max_value)\n",
        "blur_normalize = blur*256/max_value\n",
        "plot_heatmap(blur_normalize)"
      ]
    },
    {
      "cell_type": "markdown",
      "source": [
        "#### **PASSO 5:** Detectar contorno para o cálculo da área"
      ],
      "metadata": {
        "id": "gfX2HEXmlXIw"
      }
    },
    {
      "cell_type": "code",
      "execution_count": null,
      "metadata": {
        "id": "y7qhkpuMhryl",
        "outputId": "ce0d8c31-1f37-4494-e3d5-4d8899f82c18"
      },
      "outputs": [
        {
          "data": {
            "image/png": "[encoded data removed]",
            "text/plain": [
              "<Figure size 432x288 with 2 Axes>"
            ]
          },
          "metadata": {
            "needs_background": "light"
          },
          "output_type": "display_data"
        }
      ],
      "source": [
        "rows,cols=blur_normalize.shape\n",
        "T=np.median(blur_normalize)\n",
        "blur_bin = blur_normalize.copy()\n",
        "for l in range(rows):\n",
        "    for c in range(cols):\n",
        "        if blur_normalize[l,c] < T:\n",
        "            blur_bin[l,c]=0\n",
        "        else:\n",
        "            blur_bin[l,c]=255\n",
        "plot_heatmap(blur_bin)"
      ]
    },
    {
      "cell_type": "code",
      "execution_count": null,
      "metadata": {
        "id": "ZUI1b855hryl",
        "outputId": "1f15bffa-781c-4c6e-c284-900b3c74bc35"
      },
      "outputs": [
        {
          "data": {
            "text/latex": [
              "$[[6.2822781,~14.453397,~27.258247,~\\dots,~23.588171,~13.247927,~6.7451868],~\n",
              " [12.382366,~28.636972,~54.004395,~\\dots,~44.138775,~23.541309,~10.938563],~\n",
              " [19.686508,~45.874882,~86.934105,~\\dots,~69.926811,~36.401554,~16.014162],~\n",
              " \\dots,~\n",
              " [5.5543623,~13.175624,~25.225592,~\\dots,~36.20335,~22.942133,~12.470311],~\n",
              " [2.692847,~6.2925272,~12.132201,~\\dots,~22.640585,~15.069199,~8.5301914],~\n",
              " [1.3346828,~3.0106556,~5.7581635,~\\dots,~12.959563,~8.8877592,~5.1496987]] \\; \\mathrm{}$"
            ],
            "text/plain": [
              "<Quantity [[  6.282278 ,  14.453397 ,  27.258247 ,  42.31914  ,\n",
              "             54.252193 ,  57.441753 ,  50.421906 ,  37.185604 ,\n",
              "             23.588171 ,  13.247927 ,   6.745187 ],\n",
              "           [ 12.382366 ,  28.636972 ,  54.004395 ,  83.55827  ,\n",
              "            106.55502  , 112.1115   ,  97.68583  ,  71.241585 ,\n",
              "             44.138775 ,  23.54131  ,  10.938563 ],\n",
              "           [ 19.686508 ,  45.87488  ,  86.934105 , 134.75789  ,\n",
              "            171.69682  , 180.21666  , 156.59639  , 113.81488  ,\n",
              "             69.92681  ,  36.401554 ,  16.014162 ],\n",
              "           [ 25.489935 ,  59.852077 , 114.04451  , 177.32576  ,\n",
              "            226.15338  , 237.38615  , 206.35957  , 150.1823   ,\n",
              "             92.35827  ,  47.89401  ,  20.72419  ],\n",
              "           [ 27.192041 ,  64.21556  , 122.61552  , 190.75606  ,\n",
              "            243.44008  , 256.       , 223.35545  , 163.50687  ,\n",
              "            101.40725  ,  53.206524 ,  23.365568 ],\n",
              "           [ 24.016285 ,  56.906914 , 108.43448  , 168.29941  ,\n",
              "            214.95213  , 227.16608  , 199.99997  , 148.35246  ,\n",
              "             93.72646  ,  50.52042  ,  23.06605  ],\n",
              "           [ 17.544477 ,  41.650696 ,  79.10738  , 122.608475 ,\n",
              "            157.33493  , 168.25716  , 150.93864  , 114.86678  ,\n",
              "             75.043816 ,  42.25729  ,  20.401043 ],\n",
              "           [ 10.652684 ,  25.32191  ,  48.129074 ,  75.02961  ,\n",
              "             97.66748  , 106.95082  ,  99.16298  ,  78.70905  ,\n",
              "             54.08604  ,  32.26253  ,  16.57862  ],\n",
              "           [  5.5543623,  13.175624 ,  25.225592 ,  40.004234 ,\n",
              "             53.519775 ,  60.848633 ,  59.141582 ,  49.60874  ,\n",
              "             36.20335  ,  22.942133 ,  12.470311 ],\n",
              "           [  2.692847 ,   6.292527 ,  12.132201 ,  19.688204 ,\n",
              "             27.273489 ,  32.40858  ,  33.155247 ,  29.383417 ,\n",
              "             22.640585 ,  15.069199 ,   8.530191 ],\n",
              "           [  1.3346828,   3.0106556,   5.7581635,   9.457633 ,\n",
              "             13.439092 ,  16.52792  ,  17.587431 ,  16.221127 ,\n",
              "             12.959563 ,   8.887759 ,   5.1496987]]>"
            ]
          },
          "execution_count": 81,
          "metadata": {},
          "output_type": "execute_result"
        }
      ],
      "source": [
        "blur_normalize"
      ]
    },
    {
      "cell_type": "markdown",
      "source": [
        "#### **PASSO 6:** Plotar um gráfico 3D da imagem pela intensidade"
      ],
      "metadata": {
        "id": "WIJMA-A7l44G"
      }
    },
    {
      "cell_type": "code",
      "execution_count": null,
      "metadata": {
        "id": "pd_I8_iXhrym"
      },
      "outputs": [],
      "source": [
        "x, y = blur_normalize.nonzero()\n",
        "rows,cols=blur_normalize.shape\n",
        "z = []\n",
        "for l in range(rows):\n",
        "    for c in range(cols):\n",
        "        z.append(blur_normalize[l,c])"
      ]
    },
    {
      "cell_type": "code",
      "execution_count": null,
      "metadata": {
        "scrolled": true,
        "id": "W8to2lTNhrym",
        "outputId": "58fb327e-236c-4ce2-c394-ff46c6e1134f"
      },
      "outputs": [
        {
          "data": {
            "text/plain": [
              "<mpl_toolkits.mplot3d.art3d.Path3DCollection at 0x7f929d636d00>"
            ]
          },
          "execution_count": 148,
          "metadata": {},
          "output_type": "execute_result"
        },
        {
          "data": {
            "image/png": "[encoded data removed]",
            "text/plain": [
              "<Figure size 216x252 with 1 Axes>"
            ]
          },
          "metadata": {
            "needs_background": "light"
          },
          "output_type": "display_data"
        }
      ],
      "source": [
        "plt.rcParams[\"figure.figsize\"] = [3.00, 3.50]\n",
        "plt.rcParams[\"figure.autolayout\"] = True\n",
        "fig = plt.figure()\n",
        "ax = fig.add_subplot(111, projection='3d')\n",
        "ax.scatter(x, y, z, c=z, alpha=1)"
      ]
    },
    {
      "cell_type": "code",
      "execution_count": null,
      "metadata": {
        "id": "mwRx_avjhryn"
      },
      "outputs": [],
      "source": [
        "one_electron = 1*u.electron/u.s\n",
        "# from astropy.visualization import quantity_support\n",
        "# quantity_support()  \n",
        "filenames = []\n",
        "for i in range(0,len(pixelfile1.flux),50):\n",
        "    filename = f'{i}.png'\n",
        "    filenames.append(filename)\n",
        "    matrix_i = pixelfile1.flux[i]\n",
        "    matrix_i = convolve(matrix_i, Gaussian2DKernel(2))\n",
        "    x, y = matrix_i.nonzero()\n",
        "    rows,cols=matrix_i.shape\n",
        "    z = []\n",
        "    for l in range(rows):\n",
        "        for c in range(cols):\n",
        "            z.append(matrix_i[l,c]/one_electron)\n",
        "    #print(z)\n",
        "    fig = plt.figure()\n",
        "    ax = fig.add_subplot(111, projection='3d')\n",
        "    ax.set_zlim(0, 9000)\n",
        "    ax.scatter(x, y, z, c=z, alpha=1)\n",
        "    plt.savefig(filename)\n",
        "    plt.close()\n",
        "    \n",
        "# build gif\n",
        "with imageio.get_writer('mygif.gif', mode='I') as writer:\n",
        "    for filename in filenames:\n",
        "        image = imageio.imread(filename)\n",
        "        writer.append_data(image)\n",
        "\n",
        "# Remove files\n",
        "for filename in set(filenames):\n",
        "    os.remove(filename)\n"
      ]
    },
    {
      "cell_type": "markdown",
      "source": [
        "## **REFERÊNCIAS**\n",
        "\n",
        "\n",
        "\n",
        "1.   https://docs.lightkurve.org/\n",
        "2.   http://exoplanet.eu/catalog/\n",
        "\n",
        "\n",
        "\n"
      ],
      "metadata": {
        "id": "_CyNxxebj798"
      }
    }
  ],
  "metadata": {
    "colab": {
      "name": "Cópia de Cópia de exoplanetas.ipynb",
      "provenance": []
    },
    "kernelspec": {
      "display_name": "Python 3",
      "language": "python",
      "name": "python3"
    },
    "language_info": {
      "codemirror_mode": {
        "name": "ipython",
        "version": 3
      },
      "file_extension": ".py",
      "mimetype": "text/x-python",
      "name": "python",
      "nbconvert_exporter": "python",
      "pygments_lexer": "ipython3",
      "version": "3.8.10"
    }
  },
  "nbformat": 4,
  "nbformat_minor": 0
}